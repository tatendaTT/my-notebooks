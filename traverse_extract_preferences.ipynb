{
 "cells": [
  {
   "cell_type": "code",
   "execution_count": 1,
   "id": "389de349-085a-4fbc-b364-2853e06ae92c",
   "metadata": {},
   "outputs": [
    {
     "ename": "NameError",
     "evalue": "name 'Node' is not defined",
     "output_type": "error",
     "traceback": [
      "\u001b[1;31m---------------------------------------------------------------------------\u001b[0m",
      "\u001b[1;31mNameError\u001b[0m                                 Traceback (most recent call last)",
      "Cell \u001b[1;32mIn [2], line 11\u001b[0m\n\u001b[0;32m      7\u001b[0m \u001b[38;5;28;01mimport\u001b[39;00m \u001b[38;5;21;01mrandom\u001b[39;00m\n\u001b[0;32m      9\u001b[0m \u001b[38;5;28;01mif\u001b[39;00m \u001b[38;5;18m__name__\u001b[39m \u001b[38;5;241m==\u001b[39m \u001b[38;5;124m\"\u001b[39m\u001b[38;5;124m__main__\u001b[39m\u001b[38;5;124m\"\u001b[39m:\n\u001b[0;32m     10\u001b[0m     graph \u001b[38;5;241m=\u001b[39m {\n\u001b[1;32m---> 11\u001b[0m         \u001b[43mNode\u001b[49m(\u001b[38;5;124m\"\u001b[39m\u001b[38;5;124mA\u001b[39m\u001b[38;5;124m\"\u001b[39m, \u001b[38;5;241m0\u001b[39m, \u001b[38;5;241m0\u001b[39m): [Node(\u001b[38;5;124m\"\u001b[39m\u001b[38;5;124mB\u001b[39m\u001b[38;5;124m\"\u001b[39m, \u001b[38;5;241m0\u001b[39m, \u001b[38;5;241m1\u001b[39m, \u001b[38;5;241m1\u001b[39m), Node(\u001b[38;5;124m\"\u001b[39m\u001b[38;5;124mC\u001b[39m\u001b[38;5;124m\"\u001b[39m, \u001b[38;5;241m1\u001b[39m, \u001b[38;5;241m0\u001b[39m, \u001b[38;5;241m1\u001b[39m)],\n\u001b[0;32m     12\u001b[0m         Node(\u001b[38;5;124m\"\u001b[39m\u001b[38;5;124mB\u001b[39m\u001b[38;5;124m\"\u001b[39m, \u001b[38;5;241m0\u001b[39m, \u001b[38;5;241m1\u001b[39m): [Node(\u001b[38;5;124m\"\u001b[39m\u001b[38;5;124mA\u001b[39m\u001b[38;5;124m\"\u001b[39m, \u001b[38;5;241m0\u001b[39m, \u001b[38;5;241m0\u001b[39m, \u001b[38;5;241m1\u001b[39m), Node(\u001b[38;5;124m\"\u001b[39m\u001b[38;5;124mD\u001b[39m\u001b[38;5;124m\"\u001b[39m, \u001b[38;5;241m1\u001b[39m, \u001b[38;5;241m1\u001b[39m, \u001b[38;5;241m1\u001b[39m)],\n\u001b[0;32m     13\u001b[0m         Node(\u001b[38;5;124m\"\u001b[39m\u001b[38;5;124mC\u001b[39m\u001b[38;5;124m\"\u001b[39m, \u001b[38;5;241m1\u001b[39m, \u001b[38;5;241m0\u001b[39m): [Node(\u001b[38;5;124m\"\u001b[39m\u001b[38;5;124mA\u001b[39m\u001b[38;5;124m\"\u001b[39m, \u001b[38;5;241m0\u001b[39m, \u001b[38;5;241m0\u001b[39m, \u001b[38;5;241m1\u001b[39m), Node(\u001b[38;5;124m\"\u001b[39m\u001b[38;5;124mD\u001b[39m\u001b[38;5;124m\"\u001b[39m, \u001b[38;5;241m1\u001b[39m, \u001b[38;5;241m1\u001b[39m, \u001b[38;5;241m1\u001b[39m)],\n\u001b[0;32m     14\u001b[0m         Node(\u001b[38;5;124m\"\u001b[39m\u001b[38;5;124mD\u001b[39m\u001b[38;5;124m\"\u001b[39m, \u001b[38;5;241m1\u001b[39m, \u001b[38;5;241m1\u001b[39m): [Node(\u001b[38;5;124m\"\u001b[39m\u001b[38;5;124mB\u001b[39m\u001b[38;5;124m\"\u001b[39m, \u001b[38;5;241m0\u001b[39m, \u001b[38;5;241m1\u001b[39m, \u001b[38;5;241m1\u001b[39m), Node(\u001b[38;5;124m\"\u001b[39m\u001b[38;5;124mC\u001b[39m\u001b[38;5;124m\"\u001b[39m, \u001b[38;5;241m1\u001b[39m, \u001b[38;5;241m0\u001b[39m, \u001b[38;5;241m1\u001b[39m)],\n\u001b[0;32m     15\u001b[0m         Node(\u001b[38;5;124m\"\u001b[39m\u001b[38;5;124mE\u001b[39m\u001b[38;5;124m\"\u001b[39m, \u001b[38;5;241m2\u001b[39m, \u001b[38;5;241m0\u001b[39m): [Node(\u001b[38;5;124m\"\u001b[39m\u001b[38;5;124mD\u001b[39m\u001b[38;5;124m\"\u001b[39m, \u001b[38;5;241m1\u001b[39m, \u001b[38;5;241m1\u001b[39m, \u001b[38;5;241m2\u001b[39m), Node(\u001b[38;5;124m\"\u001b[39m\u001b[38;5;124mF\u001b[39m\u001b[38;5;124m\"\u001b[39m, \u001b[38;5;241m2\u001b[39m, \u001b[38;5;241m1\u001b[39m, \u001b[38;5;241m1\u001b[39m)],\n\u001b[0;32m     16\u001b[0m         Node(\u001b[38;5;124m\"\u001b[39m\u001b[38;5;124mF\u001b[39m\u001b[38;5;124m\"\u001b[39m, \u001b[38;5;241m2\u001b[39m, \u001b[38;5;241m1\u001b[39m): [Node(\u001b[38;5;124m\"\u001b[39m\u001b[38;5;124mE\u001b[39m\u001b[38;5;124m\"\u001b[39m, \u001b[38;5;241m2\u001b[39m, \u001b[38;5;241m0\u001b[39m, \u001b[38;5;241m1\u001b[39m), Node(\u001b[38;5;124m\"\u001b[39m\u001b[38;5;124mG\u001b[39m\u001b[38;5;124m\"\u001b[39m, \u001b[38;5;241m3\u001b[39m, \u001b[38;5;241m1\u001b[39m, \u001b[38;5;241m3\u001b[39m)]\n\u001b[0;32m     17\u001b[0m     }\n\u001b[0;32m     19\u001b[0m     nodes \u001b[38;5;241m=\u001b[39m \u001b[38;5;28mlist\u001b[39m(graph\u001b[38;5;241m.\u001b[39mkeys())\n\u001b[0;32m     20\u001b[0m     results \u001b[38;5;241m=\u001b[39m []\n",
      "\u001b[1;31mNameError\u001b[0m: name 'Node' is not defined"
     ]
    }
   ],
   "source": [
    "#Here's an example of generating up to a hundred traversals of the graph and storing the results in a table:\n",
    "\n",
    "This code generates 100 random start and end nodes from the graph, performs an A* search between the start and end nodes,\n",
    "reconstructs the path, and calculates the cost of the path. The results of each search are stored in a list of dictionaries, \n",
    "which are then converted into a pandas DataFrame for easy display and manipulation of the data\n",
    "\n",
    "import random\n",
    "\n",
    "if __name__ == \"__main__\":\n",
    "    graph = {\n",
    "        Node(\"A\", 0, 0): [Node(\"B\", 0, 1, 1), Node(\"C\", 1, 0, 1)],\n",
    "        Node(\"B\", 0, 1): [Node(\"A\", 0, 0, 1), Node(\"D\", 1, 1, 1)],\n",
    "        Node(\"C\", 1, 0): [Node(\"A\", 0, 0, 1), Node(\"D\", 1, 1, 1)],\n",
    "        Node(\"D\", 1, 1): [Node(\"B\", 0, 1, 1), Node(\"C\", 1, 0, 1)],\n",
    "        Node(\"E\", 2, 0): [Node(\"D\", 1, 1, 2), Node(\"F\", 2, 1, 1)],\n",
    "        Node(\"F\", 2, 1): [Node(\"E\", 2, 0, 1), Node(\"G\", 3, 1, 3)]\n",
    "    }\n",
    "\n",
    "    nodes = list(graph.keys())\n",
    "    results = []\n",
    "\n",
    "    for i in range(100):\n",
    "        start = random.choice(nodes)\n",
    "        end = random.choice(nodes)\n",
    "        while end == start:\n",
    "            end = random.choice(nodes)\n",
    "\n",
    "        came_from, cost_so_far = a_star(graph, start, end)\n",
    "        path = reconstruct_path(came_from, start, end)\n",
    "        cost = cost_so_far[end]\n",
    "\n",
    "        results.append({\n",
    "            \"start\": start.name,\n",
    "            \"end\": end.name,\n",
    "            \"path\": path,\n",
    "            \"cost\": cost\n",
    "        })\n",
    "\n",
    "    df = pd.DataFrame(results)\n",
    "    print(df)\n"
   ]
  },
  {
   "cell_type": "code",
   "execution_count": null,
   "id": "55ab9844-9988-4845-b9ce-66e38e94add8",
   "metadata": {},
   "outputs": [],
   "source": [
    "Here is a simple algorithm that can learn preferences from the traversals:"
   ]
  },
  {
   "cell_type": "code",
   "execution_count": null,
   "id": "d3f444d1-c9b6-4c48-b1d5-673f8e673189",
   "metadata": {},
   "outputs": [],
   "source": [
    "import pandas as pd\n",
    "import numpy as np\n",
    "\n",
    "def learn_preferences(df):\n",
    "    node_counts = df[\"path\"].apply(lambda x: len(x)).value_counts()\n",
    "    node_weights = node_counts / node_counts.sum()\n",
    "\n",
    "    edge_counts = df[\"path\"].apply(lambda x: len(x) - 1).value_counts()\n",
    "    edge_weights = edge_counts / edge_counts.sum()\n",
    "\n",
    "    cost_weights = df[\"cost\"].value_counts(normalize=True)\n",
    "\n",
    "    node_preferences = node_weights.to_dict()\n",
    "    edge_preferences = edge_weights.to_dict()\n",
    "    cost_preferences = cost_weights.to_dict()\n",
    "\n",
    "    return node_preferences, edge_preferences, cost_preferences\n",
    "\n",
    "if __name__ == \"__main__\":\n",
    "    # Load the traversal data into a pandas DataFrame\n",
    "    df = pd.read_csv(\"traversal_data.csv\")\n",
    "\n",
    "    # Learn the preferences from the traversal data\n",
    "    node_preferences, edge_preferences, cost_preferences = learn_preferences(df)\n",
    "\n",
    "    print(\"Node preferences:\", node_preferences)\n",
    "    print(\"Edge preferences:\", edge_preferences)\n",
    "    print(\"Cost preferences:\", cost_preferences)\n"
   ]
  },
  {
   "cell_type": "code",
   "execution_count": null,
   "id": "e33f0927-2dfb-4b0c-aa15-a561fa497025",
   "metadata": {},
   "outputs": [],
   "source": [
    "This code uses the pandas library to process the data stored in the DataFrame. It counts the occurrences of each unique path length, edge count, and cost, and calculates the weights of each by dividing the counts by the total number of traversals. These weights can be considered as the preferences of each node, edge, and cost in the graph."
   ]
  },
  {
   "cell_type": "code",
   "execution_count": null,
   "id": "ab6b832c-70f6-40fc-96fa-5c6ec2a83f3d",
   "metadata": {},
   "outputs": [],
   "source": []
  },
  {
   "cell_type": "code",
   "execution_count": null,
   "id": "5801cd24-7097-4aa0-b70c-02f9de38a831",
   "metadata": {},
   "outputs": [],
   "source": [
    "def learn_preferences(df):\n",
    "    # Add a new column to store the colors of the nodes\n",
    "    df[\"color\"] = df[\"path\"].apply(lambda x: [node.color for node in x])\n",
    "\n",
    "    node_counts = df[\"path\"].apply(lambda x: len(x)).value_counts()\n",
    "    node_weights = node_counts / node_counts.sum()\n",
    "\n",
    "    edge_counts = df[\"path\"].apply(lambda x: len(x) - 1).value_counts()\n",
    "    edge_weights = edge_counts / edge_counts.sum()\n",
    "\n",
    "    cost_weights = df[\"cost\"].value_counts(normalize=True)\n",
    "\n",
    "    color_counts = df[\"color\"].apply(lambda x: x[0]).value_counts()\n",
    "    color_weights = color_counts / color_counts.sum()\n",
    "\n",
    "    node_preferences = node_weights.to_dict()\n",
    "    edge_preferences = edge_weights.to_dict()\n",
    "    cost_preferences = cost_weights.to_dict()\n",
    "    color_preferences = color_weights.to_dict()\n",
    "\n",
    "    return node_preferences, edge_preferences, cost_preferences, color_preferences\n",
    "\n",
    "if __name__ == \"__main__\":\n",
    "    # Load the traversal data into a pandas DataFrame\n",
    "    df = pd.read_csv(\"traversal_data.csv\")\n",
    "\n",
    "    # Learn the preferences from the traversal data\n",
    "    node_preferences, edge_preferences, cost_preferences, color_preferences = learn_preferences(df)\n",
    "\n",
    "    print(\"Node preferences:\", node_preferences)\n",
    "    print(\"Edge preferences:\", edge_preferences)\n",
    "    print(\"Cost preferences:\", cost_preferences)\n",
    "    print(\"Color preferences:\", color_preferences)\n"
   ]
  },
  {
   "cell_type": "code",
   "execution_count": null,
   "id": "7670917d-f8ea-48e5-9f9e-67a7fecab812",
   "metadata": {},
   "outputs": [],
   "source": [
    "Yes, the algorithm can take the colors of the nodes into consideration as well. To do this, you can add a new column to the DataFrame to store the colors of the nodes, and then include this information in the calculations of the node and edge preferences:"
   ]
  },
  {
   "cell_type": "code",
   "execution_count": null,
   "id": "f632e8a1-7a06-479b-8655-1c16abc6e301",
   "metadata": {},
   "outputs": [],
   "source": [
    "This code adds a new column to the DataFrame to store the colors of the nodes in each path. It then calculates the weight of each color by counting the occurrences of each color and dividing by the total number of traversals. These weights can be considered as the preferences of each color in the graph."
   ]
  },
  {
   "cell_type": "code",
   "execution_count": null,
   "id": "7c6ebc06-7889-4a87-a2b3-3328e69639a1",
   "metadata": {},
   "outputs": [],
   "source": [
    "#Commented\n",
    "def learn_preferences(df):\n",
    "    # Add a new column to the DataFrame to store the colors of the nodes in each path\n",
    "    df[\"color\"] = df[\"path\"].apply(lambda x: [node.color for node in x])\n",
    "\n",
    "    # Calculate the number of occurrences of each path length (node count)\n",
    "    node_counts = df[\"path\"].apply(lambda x: len(x)).value_counts()\n",
    "\n",
    "    # Normalize the node counts to calculate the node weights\n",
    "    node_weights = node_counts / node_counts.sum()\n",
    "\n",
    "    # Calculate the number of occurrences of each edge count\n",
    "    edge_counts = df[\"path\"].apply(lambda x: len(x) - 1).value_counts()\n",
    "\n",
    "    # Normalize the edge counts to calculate the edge weights\n",
    "    edge_weights = edge_counts / edge_counts.sum()\n",
    "\n",
    "    # Calculate the cost weights (normalized occurrence of each cost value)\n",
    "    cost_weights = df[\"cost\"].value_counts(normalize=True)\n",
    "\n",
    "    # Calculate the number of occurrences of each color in the first node of each path\n",
    "    color_counts = df[\"color\"].apply(lambda x: x[0]).value_counts()\n",
    "\n",
    "    # Normalize the color counts to calculate the color weights\n",
    "    color_weights = color_counts / color_counts.sum()\n",
    "\n",
    "    # Store the node, edge, cost and color preferences as dictionaries\n",
    "    node_preferences = node_weights.to_dict()\n",
    "    edge_preferences = edge_weights.to_dict()\n",
    "    cost_preferences = cost_weights.to_dict()\n",
    "    color_preferences = color_weights.to_dict()\n",
    "\n",
    "    # Return the preferences\n",
    "    return node_preferences, edge_preferences, cost_preferences, color_preferences\n",
    "\n",
    "if __name__ == \"__main__\":\n",
    "    # Load the traversal data into a pandas DataFrame\n",
    "    df = pd.read_csv(\"traversal_data.csv\")\n",
    "\n",
    "    # Learn the preferences from the traversal data\n",
    "    node_preferences, edge_preferences, cost_preferences, color_preferences = learn_preferences(df)\n",
    "\n",
    "    # Print the preferences\n",
    "    print(\"Node preferences:\", node_preferences)\n",
    "    print(\"Edge preferences:\", edge_preferences)\n",
    "    print(\"Cost preferences:\", cost_preferences)\n",
    "    print(\"Color preferences:\", color_preferences)\n"
   ]
  }
 ],
 "metadata": {
  "kernelspec": {
   "display_name": "Python 3 (ipykernel)",
   "language": "python",
   "name": "python3"
  },
  "language_info": {
   "codemirror_mode": {
    "name": "ipython",
    "version": 3
   },
   "file_extension": ".py",
   "mimetype": "text/x-python",
   "name": "python",
   "nbconvert_exporter": "python",
   "pygments_lexer": "ipython3",
   "version": "3.9.12"
  }
 },
 "nbformat": 4,
 "nbformat_minor": 5
}
