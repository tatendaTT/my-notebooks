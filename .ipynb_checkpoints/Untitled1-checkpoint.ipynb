{
 "cells": [
  {
   "cell_type": "markdown",
   "id": "89ba2122",
   "metadata": {},
   "source": [
    "/* Pseudocode */\n",
    "\n",
    "\n",
    "Latest Tasks\n",
    "Implement a graph that is searched by the A* algorithm \n",
    "Then add the color function to all the nodes \n",
    "Then implement network x to visualize \n",
    "Create many different traversals \n",
    "Look at the different paths to infer preferences \n",
    "\n",
    "Solutions \n",
    "1. For any red nodes, half All the edges to red \n",
    "2. For the blue agent, half all the weights to blue \n",
    "3. Start at the same and end at the same \n",
    "4. Have different routes to get there \n",
    "5. We generate the data by hacking each color by halving the weights to the preferred colors \n",
    "Then we get an algo to recover preference.\n",
    "1. Does it know that there is different colors? \n",
    "2. Can it extract them itself? \n",
    "3. Can we tell it? \n",
    "4. Can we learn to predict the goal(much much later)"
   ]
  },
  {
   "cell_type": "markdown",
   "id": "ce3d442f",
   "metadata": {},
   "source": [
    "/*Notes*/\n",
    "\n",
    "\n",
    "Add diff weights to nodes depicting colors\n",
    "generate many trajectories\n",
    "do i have pref and goals \n",
    "some way of identifying characterics in this case\n",
    "can you idenfify that you \n",
    "trajectory of nodes witch charecteristics with the, color, shapes, size\n",
    "each trajectory has a sequesnce of properties\n",
    "what is the correct way to identify unique properties in each trajectory\n",
    "\n",
    "1.visual depiction of a graph\n",
    "2.show a simple trajectory going to goals and preferences\n",
    "3.can we extract preferences (color)\n",
    "4.can I find a style that identifies that trajectory\n",
    "\n",
    "Qn. How do we then differentiate between different trajectories?"
   ]
  },
  {
   "cell_type": "code",
   "execution_count": null,
   "id": "2aa2d4a2",
   "metadata": {},
   "outputs": [],
   "source": []
  }
 ],
 "metadata": {
  "kernelspec": {
   "display_name": "Python 3 (ipykernel)",
   "language": "python",
   "name": "python3"
  },
  "language_info": {
   "codemirror_mode": {
    "name": "ipython",
    "version": 3
   },
   "file_extension": ".py",
   "mimetype": "text/x-python",
   "name": "python",
   "nbconvert_exporter": "python",
   "pygments_lexer": "ipython3",
   "version": "3.9.12"
  }
 },
 "nbformat": 4,
 "nbformat_minor": 5
}
