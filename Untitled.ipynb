{
 "cells": [
  {
   "cell_type": "code",
   "execution_count": 11,
   "id": "6e94cba3",
   "metadata": {},
   "outputs": [],
   "source": [
    "import pandas as pd\n",
    "import heapq"
   ]
  },
  {
   "cell_type": "code",
   "execution_count": 12,
   "id": "3bc47241",
   "metadata": {},
   "outputs": [
    {
     "data": {
      "text/plain": [
       "{'B': [2, 2], 'C': [3, 2]}"
      ]
     },
     "execution_count": 12,
     "metadata": {},
     "output_type": "execute_result"
    }
   ],
   "source": [
    "graph={\n",
    "    # now we need a list as the value to store g-score and h-score\n",
    "    # list first value is the g-score, second value is the h-score,i.e., heuristic\n",
    "    'A':{'B':[2,2],'C':[3,2]},\n",
    "    'B':{'D':[3,5],'E':[1,1]},\n",
    "    'C':{'F':[2,0]},\n",
    "    'D':{},\n",
    "    'E':{'F':[1,0]},\n",
    "    'F':{}\n",
    "}\n",
    "# the algorithm will retrieve the graph as follow:\n",
    "graph['A']\n",
    "# this return {'B':[2,2],'C':[3,2]}\n",
    "# 'graph['A']['B']\n",
    "# # this return [2,2]\n",
    "# graph['A']['B'][0]# return the edge length\n",
    "# graph['A']['B'][1]# return the distance of the node to destination'"
   ]
  },
  {
   "cell_type": "code",
   "execution_count": 13,
   "id": "7637b11b",
   "metadata": {},
   "outputs": [],
   "source": [
    " \"\"\"\n",
    "1. Create a wighted graph\n",
    "2. Use A* to navigate it \n",
    "3. Get the trajectories\n",
    "4. Show the graph with network X\n",
    "5. Appy the color function to it\n",
    "6. How how it looks with NetworkX\n",
    "7. Navigate it and generate trajectories by changing goals \n",
    "\n",
    " \"\"\"\n",
    "\n",
    "complex_graph={\n",
    "    'S':{'A':[5,7],'B':[9,3],'D':[6,6]},\n",
    "    'A':{'B':[3,3],'G1':[9,0]},\n",
    "    'B':{'A':[2,7],'C':[1,4]},\n",
    "    'C':{'S':[6,4],'G2':[5,0],'F':[7,6]},\n",
    "    'D':{'S':[1,5],'C':[2,4],'E':[2,5]},\n",
    "    'E':{'G3':[7,0]},\n",
    "    'F':{'G3':[8,0]},\n",
    "    'G1':{},\n",
    "    'G2':{},\n",
    "    'G3':{}\n",
    "}"
   ]
  },
  {
   "cell_type": "code",
   "execution_count": 14,
   "id": "642b3ecf",
   "metadata": {},
   "outputs": [],
   "source": [
    "def astar(complex_graph,start_node,end_node):\n",
    "    # astar: F=G+H, we name F as f_distance, G as g_distance, \n",
    "    # H as heuristic\n",
    "    \n",
    "    f_distance={node:float('inf') for node in graph}\n",
    "    f_distance[start_node]=0\n",
    "    \n",
    "    g_distance={node:float('inf') for node in graph}\n",
    "    g_distance[start_node]=0\n",
    "    \n",
    "    came_from={node:None for node in graph}\n",
    "    came_from[start_node]=start_node\n",
    "    \n",
    "    queue=[(0,start_node)]\n",
    "    while queue:\n",
    "        current_f_distance,current_node=heapq.heappop(queue)\n",
    "        \n",
    "        if current_node == end_node:\n",
    "            print('found the Goal')\n",
    "            return f_distance, came_from\n",
    "        for next_node,weights in graph[current_node].items():\n",
    "            temp_g_distance=g_distance[current_node]+weights[0]\n",
    "            if temp_g_distance<g_distance[next_node]:\n",
    "                g_distance[next_node]=temp_g_distance\n",
    "                heuristic=weights[1]\n",
    "                f_distance[next_node]=temp_g_distance+heuristic\n",
    "                came_from[next_node]=current_node\n",
    "                \n",
    "                heapq.heappush(queue,(f_distance[next_node],next_node))\n",
    "    return f_distance, came_from"
   ]
  },
  {
   "cell_type": "code",
   "execution_count": 15,
   "id": "0d5cb23c",
   "metadata": {},
   "outputs": [
    {
     "name": "stdout",
     "output_type": "stream",
     "text": [
      "found the Goal\n"
     ]
    },
    {
     "data": {
      "text/plain": [
       "({'A': 0, 'B': 4, 'C': 5, 'D': 10, 'E': 4, 'F': 4},\n",
       " {'A': 'A', 'B': 'A', 'C': 'A', 'D': 'B', 'E': 'B', 'F': 'E'})"
      ]
     },
     "execution_count": 15,
     "metadata": {},
     "output_type": "execute_result"
    }
   ],
   "source": [
    "astar(complex_graph,'A','F')"
   ]
  },
  {
   "cell_type": "code",
   "execution_count": 6,
   "id": "2f903675",
   "metadata": {},
   "outputs": [
    {
     "name": "stdout",
     "output_type": "stream",
     "text": [
      "found the Goal\n"
     ]
    },
    {
     "data": {
      "text/plain": [
       "({'S': 14,\n",
       "  'A': 0,\n",
       "  'B': 6,\n",
       "  'C': 8,\n",
       "  'D': 22,\n",
       "  'E': inf,\n",
       "  'F': 17,\n",
       "  'G1': 9,\n",
       "  'G2': 9,\n",
       "  'G3': 19},\n",
       " {'S': 'C',\n",
       "  'A': 'A',\n",
       "  'B': 'A',\n",
       "  'C': 'B',\n",
       "  'D': 'S',\n",
       "  'E': None,\n",
       "  'F': 'C',\n",
       "  'G1': 'A',\n",
       "  'G2': 'C',\n",
       "  'G3': 'F'})"
      ]
     },
     "execution_count": 6,
     "metadata": {},
     "output_type": "execute_result"
    }
   ],
   "source": [
    "astar(complex_graph, 'A','G3')"
   ]
  },
  {
   "cell_type": "code",
   "execution_count": null,
   "id": "4dd79e7c",
   "metadata": {},
   "outputs": [],
   "source": []
  }
 ],
 "metadata": {
  "kernelspec": {
   "display_name": "Python 3 (ipykernel)",
   "language": "python",
   "name": "python3"
  },
  "language_info": {
   "codemirror_mode": {
    "name": "ipython",
    "version": 3
   },
   "file_extension": ".py",
   "mimetype": "text/x-python",
   "name": "python",
   "nbconvert_exporter": "python",
   "pygments_lexer": "ipython3",
   "version": "3.9.12"
  }
 },
 "nbformat": 4,
 "nbformat_minor": 5
}
